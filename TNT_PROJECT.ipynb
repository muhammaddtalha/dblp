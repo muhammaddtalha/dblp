{
 "cells": [
  {
   "cell_type": "markdown",
   "metadata": {},
   "source": [
    "##### Importing all the required Libraries"
   ]
  },
  {
   "cell_type": "code",
   "execution_count": 86,
   "metadata": {},
   "outputs": [],
   "source": [
    "import pandas as pd\n",
    "import numpy as np\n",
    "import matplotlib.pyplot as plt\n",
    "from sklearn.compose import ColumnTransformer\n",
    "from sklearn.model_selection import train_test_split\n",
    "from sklearn.preprocessing import StandardScaler\n",
    "from sklearn.tree import DecisionTreeRegressor\n",
    "from sklearn.ensemble import RandomForestRegressor\n",
    "from sklearn.model_selection import train_test_split,cross_val_score, cross_val_predict\n",
    "from pandas_profiling import ProfileReport\n",
    "from sklearn import *"
   ]
  },
  {
   "cell_type": "markdown",
   "metadata": {},
   "source": [
    "##### Importing Dataset"
   ]
  },
  {
   "cell_type": "code",
   "execution_count": 2,
   "metadata": {},
   "outputs": [
    {
     "data": {
      "text/html": [
       "<div>\n",
       "<style scoped>\n",
       "    .dataframe tbody tr th:only-of-type {\n",
       "        vertical-align: middle;\n",
       "    }\n",
       "\n",
       "    .dataframe tbody tr th {\n",
       "        vertical-align: top;\n",
       "    }\n",
       "\n",
       "    .dataframe thead th {\n",
       "        text-align: right;\n",
       "    }\n",
       "</style>\n",
       "<table border=\"1\" class=\"dataframe\">\n",
       "  <thead>\n",
       "    <tr style=\"text-align: right;\">\n",
       "      <th></th>\n",
       "      <th>title</th>\n",
       "      <th>author</th>\n",
       "      <th>year</th>\n",
       "      <th>journal</th>\n",
       "      <th>pages</th>\n",
       "    </tr>\n",
       "  </thead>\n",
       "  <tbody>\n",
       "    <tr>\n",
       "      <th>0</th>\n",
       "      <td>Spectre Attacks: Exploiting Speculative Execut...</td>\n",
       "      <td>Paul Kocher::Daniel Genkin::Daniel Gruss::Wern...</td>\n",
       "      <td>2018.0</td>\n",
       "      <td>meltdownattack.com</td>\n",
       "      <td>NaN</td>\n",
       "    </tr>\n",
       "    <tr>\n",
       "      <th>1</th>\n",
       "      <td>Meltdown</td>\n",
       "      <td>Moritz Lipp::Michael Schwarz 0001::Daniel Grus...</td>\n",
       "      <td>2018.0</td>\n",
       "      <td>meltdownattack.com</td>\n",
       "      <td>NaN</td>\n",
       "    </tr>\n",
       "    <tr>\n",
       "      <th>2</th>\n",
       "      <td>An Evaluation of Object-Oriented DBMS Developm...</td>\n",
       "      <td>Frank Manola</td>\n",
       "      <td>1994.0</td>\n",
       "      <td>GTE Laboratories Incorporated</td>\n",
       "      <td>NaN</td>\n",
       "    </tr>\n",
       "    <tr>\n",
       "      <th>3</th>\n",
       "      <td>DARWIN: On the Incremental Migration of Legacy...</td>\n",
       "      <td>Michael L. Brodie::Michael Stonebraker</td>\n",
       "      <td>1993.0</td>\n",
       "      <td>GTE Laboratories Incorporated</td>\n",
       "      <td>NaN</td>\n",
       "    </tr>\n",
       "    <tr>\n",
       "      <th>4</th>\n",
       "      <td>Integrating Heterogeneous, Autonomous, Distrib...</td>\n",
       "      <td>Mark F. Hornick::Joe D. Morrison::Farshad Nayeri</td>\n",
       "      <td>1991.0</td>\n",
       "      <td>GTE Laboratories Incorporated</td>\n",
       "      <td>NaN</td>\n",
       "    </tr>\n",
       "  </tbody>\n",
       "</table>\n",
       "</div>"
      ],
      "text/plain": [
       "                                               title  \\\n",
       "0  Spectre Attacks: Exploiting Speculative Execut...   \n",
       "1                                           Meltdown   \n",
       "2  An Evaluation of Object-Oriented DBMS Developm...   \n",
       "3  DARWIN: On the Incremental Migration of Legacy...   \n",
       "4  Integrating Heterogeneous, Autonomous, Distrib...   \n",
       "\n",
       "                                              author    year  \\\n",
       "0  Paul Kocher::Daniel Genkin::Daniel Gruss::Wern...  2018.0   \n",
       "1  Moritz Lipp::Michael Schwarz 0001::Daniel Grus...  2018.0   \n",
       "2                                       Frank Manola  1994.0   \n",
       "3             Michael L. Brodie::Michael Stonebraker  1993.0   \n",
       "4   Mark F. Hornick::Joe D. Morrison::Farshad Nayeri  1991.0   \n",
       "\n",
       "                         journal  pages  \n",
       "0             meltdownattack.com    NaN  \n",
       "1             meltdownattack.com    NaN  \n",
       "2  GTE Laboratories Incorporated    NaN  \n",
       "3  GTE Laboratories Incorporated    NaN  \n",
       "4  GTE Laboratories Incorporated    NaN  "
      ]
     },
     "execution_count": 2,
     "metadata": {},
     "output_type": "execute_result"
    }
   ],
   "source": [
    "Dataset = pd.read_csv(\"article.csv\")\n",
    "Dataset.head()"
   ]
  },
  {
   "cell_type": "markdown",
   "metadata": {},
   "source": [
    "#### Droping the Author and Pages Coloum"
   ]
  },
  {
   "cell_type": "code",
   "execution_count": 7,
   "metadata": {},
   "outputs": [],
   "source": [
    "del Dataset['pages']\n",
    "del Dataset['author']"
   ]
  },
  {
   "cell_type": "code",
   "execution_count": 8,
   "metadata": {},
   "outputs": [
    {
     "name": "stdout",
     "output_type": "stream",
     "text": [
      "<class 'pandas.core.frame.DataFrame'>\n",
      "RangeIndex: 2423311 entries, 0 to 2423310\n",
      "Data columns (total 3 columns):\n",
      " #   Column   Dtype  \n",
      "---  ------   -----  \n",
      " 0   title    object \n",
      " 1   year     float64\n",
      " 2   journal  object \n",
      "dtypes: float64(1), object(2)\n",
      "memory usage: 55.5+ MB\n"
     ]
    }
   ],
   "source": [
    "Dataset.info()"
   ]
  },
  {
   "cell_type": "markdown",
   "metadata": {},
   "source": [
    "#### Checking Dataset for Missing or Null values and processing them"
   ]
  },
  {
   "cell_type": "code",
   "execution_count": 10,
   "metadata": {},
   "outputs": [
    {
     "data": {
      "text/html": [
       "<div>\n",
       "<style scoped>\n",
       "    .dataframe tbody tr th:only-of-type {\n",
       "        vertical-align: middle;\n",
       "    }\n",
       "\n",
       "    .dataframe tbody tr th {\n",
       "        vertical-align: top;\n",
       "    }\n",
       "\n",
       "    .dataframe thead th {\n",
       "        text-align: right;\n",
       "    }\n",
       "</style>\n",
       "<table border=\"1\" class=\"dataframe\">\n",
       "  <thead>\n",
       "    <tr style=\"text-align: right;\">\n",
       "      <th></th>\n",
       "      <th>title</th>\n",
       "      <th>year</th>\n",
       "      <th>journal</th>\n",
       "    </tr>\n",
       "  </thead>\n",
       "  <tbody>\n",
       "    <tr>\n",
       "      <th>0</th>\n",
       "      <td>Spectre Attacks: Exploiting Speculative Execut...</td>\n",
       "      <td>2018</td>\n",
       "      <td>meltdownattack.com</td>\n",
       "    </tr>\n",
       "    <tr>\n",
       "      <th>1</th>\n",
       "      <td>Meltdown</td>\n",
       "      <td>2018</td>\n",
       "      <td>meltdownattack.com</td>\n",
       "    </tr>\n",
       "    <tr>\n",
       "      <th>2</th>\n",
       "      <td>An Evaluation of Object-Oriented DBMS Developm...</td>\n",
       "      <td>1994</td>\n",
       "      <td>GTE Laboratories Incorporated</td>\n",
       "    </tr>\n",
       "    <tr>\n",
       "      <th>3</th>\n",
       "      <td>DARWIN: On the Incremental Migration of Legacy...</td>\n",
       "      <td>1993</td>\n",
       "      <td>GTE Laboratories Incorporated</td>\n",
       "    </tr>\n",
       "    <tr>\n",
       "      <th>4</th>\n",
       "      <td>Integrating Heterogeneous, Autonomous, Distrib...</td>\n",
       "      <td>1991</td>\n",
       "      <td>GTE Laboratories Incorporated</td>\n",
       "    </tr>\n",
       "  </tbody>\n",
       "</table>\n",
       "</div>"
      ],
      "text/plain": [
       "                                               title  year  \\\n",
       "0  Spectre Attacks: Exploiting Speculative Execut...  2018   \n",
       "1                                           Meltdown  2018   \n",
       "2  An Evaluation of Object-Oriented DBMS Developm...  1994   \n",
       "3  DARWIN: On the Incremental Migration of Legacy...  1993   \n",
       "4  Integrating Heterogeneous, Autonomous, Distrib...  1991   \n",
       "\n",
       "                         journal  \n",
       "0             meltdownattack.com  \n",
       "1             meltdownattack.com  \n",
       "2  GTE Laboratories Incorporated  \n",
       "3  GTE Laboratories Incorporated  \n",
       "4  GTE Laboratories Incorporated  "
      ]
     },
     "execution_count": 10,
     "metadata": {},
     "output_type": "execute_result"
    }
   ],
   "source": [
    "# Replicating data into new dataframe\n",
    "nandata = Dataset.interpolate(method ='linear', limit_direction ='backward') \n",
    "\n",
    "# Changing year from float to int\n",
    "intyear = nandata[\"year\"].round().astype(int)\n",
    "\n",
    "# Checking how many Null values we have in dataset\n",
    "Dataset.isnull().sum()\n",
    "nandata.isnull().sum()\n",
    "\n",
    "# Assinging converted year to year coloum\n",
    "nandata['year']=intyear\n",
    "nandata.head()"
   ]
  },
  {
   "cell_type": "code",
   "execution_count": 11,
   "metadata": {},
   "outputs": [
    {
     "data": {
      "text/plain": [
       "title      0\n",
       "year       0\n",
       "journal    0\n",
       "dtype: int64"
      ]
     },
     "execution_count": 11,
     "metadata": {},
     "output_type": "execute_result"
    }
   ],
   "source": [
    "# Dropping the Null values\n",
    "newDataset = nandata.dropna()\n",
    "newDataset.isnull().sum()"
   ]
  },
  {
   "cell_type": "code",
   "execution_count": 16,
   "metadata": {},
   "outputs": [
    {
     "data": {
      "text/html": [
       "<div>\n",
       "<style scoped>\n",
       "    .dataframe tbody tr th:only-of-type {\n",
       "        vertical-align: middle;\n",
       "    }\n",
       "\n",
       "    .dataframe tbody tr th {\n",
       "        vertical-align: top;\n",
       "    }\n",
       "\n",
       "    .dataframe thead th {\n",
       "        text-align: right;\n",
       "    }\n",
       "</style>\n",
       "<table border=\"1\" class=\"dataframe\">\n",
       "  <thead>\n",
       "    <tr style=\"text-align: right;\">\n",
       "      <th></th>\n",
       "      <th>journal</th>\n",
       "      <th>year</th>\n",
       "      <th>Paper Per Year</th>\n",
       "    </tr>\n",
       "  </thead>\n",
       "  <tbody>\n",
       "    <tr>\n",
       "      <th>22756</th>\n",
       "      <td>J. Symb. Log.</td>\n",
       "      <td>1936</td>\n",
       "      <td>12</td>\n",
       "    </tr>\n",
       "    <tr>\n",
       "      <th>22757</th>\n",
       "      <td>J. Symb. Log.</td>\n",
       "      <td>1937</td>\n",
       "      <td>15</td>\n",
       "    </tr>\n",
       "    <tr>\n",
       "      <th>22758</th>\n",
       "      <td>J. Symb. Log.</td>\n",
       "      <td>1938</td>\n",
       "      <td>10</td>\n",
       "    </tr>\n",
       "    <tr>\n",
       "      <th>22759</th>\n",
       "      <td>J. Symb. Log.</td>\n",
       "      <td>1939</td>\n",
       "      <td>18</td>\n",
       "    </tr>\n",
       "    <tr>\n",
       "      <th>22760</th>\n",
       "      <td>J. Symb. Log.</td>\n",
       "      <td>1940</td>\n",
       "      <td>10</td>\n",
       "    </tr>\n",
       "    <tr>\n",
       "      <th>...</th>\n",
       "      <td>...</td>\n",
       "      <td>...</td>\n",
       "      <td>...</td>\n",
       "    </tr>\n",
       "    <tr>\n",
       "      <th>8719</th>\n",
       "      <td>Future Gener. Comput. Syst.</td>\n",
       "      <td>2021</td>\n",
       "      <td>54</td>\n",
       "    </tr>\n",
       "    <tr>\n",
       "      <th>22997</th>\n",
       "      <td>J. Ubiquitous Syst. Pervasive Networks</td>\n",
       "      <td>2021</td>\n",
       "      <td>8</td>\n",
       "    </tr>\n",
       "    <tr>\n",
       "      <th>7931</th>\n",
       "      <td>Eur. J. Comb.</td>\n",
       "      <td>2021</td>\n",
       "      <td>41</td>\n",
       "    </tr>\n",
       "    <tr>\n",
       "      <th>23997</th>\n",
       "      <td>Math. Comput.</td>\n",
       "      <td>2021</td>\n",
       "      <td>19</td>\n",
       "    </tr>\n",
       "    <tr>\n",
       "      <th>10843</th>\n",
       "      <td>IEEE Trans. Image Process.</td>\n",
       "      <td>2021</td>\n",
       "      <td>20</td>\n",
       "    </tr>\n",
       "  </tbody>\n",
       "</table>\n",
       "<p>30221 rows × 3 columns</p>\n",
       "</div>"
      ],
      "text/plain": [
       "                                      journal  year  Paper Per Year\n",
       "22756                           J. Symb. Log.  1936              12\n",
       "22757                           J. Symb. Log.  1937              15\n",
       "22758                           J. Symb. Log.  1938              10\n",
       "22759                           J. Symb. Log.  1939              18\n",
       "22760                           J. Symb. Log.  1940              10\n",
       "...                                       ...   ...             ...\n",
       "8719              Future Gener. Comput. Syst.  2021              54\n",
       "22997  J. Ubiquitous Syst. Pervasive Networks  2021               8\n",
       "7931                            Eur. J. Comb.  2021              41\n",
       "23997                           Math. Comput.  2021              19\n",
       "10843              IEEE Trans. Image Process.  2021              20\n",
       "\n",
       "[30221 rows x 3 columns]"
      ]
     },
     "execution_count": 16,
     "metadata": {},
     "output_type": "execute_result"
    }
   ],
   "source": [
    "# Grouping the Dataset by Journal and Year\n",
    "cleanDataset = newDataset.groupby([\"journal\", \"year\"])[\"title\"].count().reset_index(name=\"Paper Per Year\")\n",
    "\n",
    "# Counting the occorance of the a Jorunal Name\n",
    "sum(newDataset.groupby([\"journal\", \"year\"])[\"title\"].count())\n",
    "finalDataset = cleanDataset.sort_values(by = ['year'])\n",
    "finalDataset"
   ]
  },
  {
   "cell_type": "code",
   "execution_count": 17,
   "metadata": {},
   "outputs": [
    {
     "data": {
      "text/html": [
       "<div>\n",
       "<style scoped>\n",
       "    .dataframe tbody tr th:only-of-type {\n",
       "        vertical-align: middle;\n",
       "    }\n",
       "\n",
       "    .dataframe tbody tr th {\n",
       "        vertical-align: top;\n",
       "    }\n",
       "\n",
       "    .dataframe thead th {\n",
       "        text-align: right;\n",
       "    }\n",
       "</style>\n",
       "<table border=\"1\" class=\"dataframe\">\n",
       "  <thead>\n",
       "    <tr style=\"text-align: right;\">\n",
       "      <th></th>\n",
       "      <th>journal</th>\n",
       "      <th>year</th>\n",
       "      <th>Paper Per Year</th>\n",
       "    </tr>\n",
       "  </thead>\n",
       "  <tbody>\n",
       "    <tr>\n",
       "      <th>0</th>\n",
       "      <td>J. Symb. Log.</td>\n",
       "      <td>1936</td>\n",
       "      <td>12</td>\n",
       "    </tr>\n",
       "    <tr>\n",
       "      <th>1</th>\n",
       "      <td>J. Symb. Log.</td>\n",
       "      <td>1937</td>\n",
       "      <td>15</td>\n",
       "    </tr>\n",
       "    <tr>\n",
       "      <th>2</th>\n",
       "      <td>J. Symb. Log.</td>\n",
       "      <td>1938</td>\n",
       "      <td>10</td>\n",
       "    </tr>\n",
       "    <tr>\n",
       "      <th>3</th>\n",
       "      <td>J. Symb. Log.</td>\n",
       "      <td>1939</td>\n",
       "      <td>18</td>\n",
       "    </tr>\n",
       "    <tr>\n",
       "      <th>4</th>\n",
       "      <td>J. Symb. Log.</td>\n",
       "      <td>1940</td>\n",
       "      <td>10</td>\n",
       "    </tr>\n",
       "  </tbody>\n",
       "</table>\n",
       "</div>"
      ],
      "text/plain": [
       "         journal  year  Paper Per Year\n",
       "0  J. Symb. Log.  1936              12\n",
       "1  J. Symb. Log.  1937              15\n",
       "2  J. Symb. Log.  1938              10\n",
       "3  J. Symb. Log.  1939              18\n",
       "4  J. Symb. Log.  1940              10"
      ]
     },
     "execution_count": 17,
     "metadata": {},
     "output_type": "execute_result"
    }
   ],
   "source": [
    "# Sorting the Dataset indexes\n",
    "finalDataset = finalDataset.reset_index(drop=True)\n",
    "finalDataset.head()"
   ]
  },
  {
   "cell_type": "code",
   "execution_count": 18,
   "metadata": {},
   "outputs": [],
   "source": [
    "# Converting the Journal Coloum into number categories so we can pass them into a model\n",
    "finalDataset[\"journal\"] = finalDataset[\"journal\"].astype('category').cat.codes"
   ]
  },
  {
   "cell_type": "code",
   "execution_count": 19,
   "metadata": {},
   "outputs": [
    {
     "name": "stdout",
     "output_type": "stream",
     "text": [
      "<class 'pandas.core.frame.DataFrame'>\n",
      "RangeIndex: 30221 entries, 0 to 30220\n",
      "Data columns (total 3 columns):\n",
      " #   Column          Non-Null Count  Dtype\n",
      "---  ------          --------------  -----\n",
      " 0   journal         30221 non-null  int16\n",
      " 1   year            30221 non-null  int64\n",
      " 2   Paper Per Year  30221 non-null  int64\n",
      "dtypes: int16(1), int64(2)\n",
      "memory usage: 531.4 KB\n"
     ]
    }
   ],
   "source": [
    "finalDataset.info()"
   ]
  },
  {
   "cell_type": "code",
   "execution_count": 20,
   "metadata": {},
   "outputs": [
    {
     "data": {
      "text/html": [
       "<div>\n",
       "<style scoped>\n",
       "    .dataframe tbody tr th:only-of-type {\n",
       "        vertical-align: middle;\n",
       "    }\n",
       "\n",
       "    .dataframe tbody tr th {\n",
       "        vertical-align: top;\n",
       "    }\n",
       "\n",
       "    .dataframe thead th {\n",
       "        text-align: right;\n",
       "    }\n",
       "</style>\n",
       "<table border=\"1\" class=\"dataframe\">\n",
       "  <thead>\n",
       "    <tr style=\"text-align: right;\">\n",
       "      <th></th>\n",
       "      <th>journal</th>\n",
       "      <th>year</th>\n",
       "      <th>Paper Per Year</th>\n",
       "    </tr>\n",
       "  </thead>\n",
       "  <tbody>\n",
       "    <tr>\n",
       "      <th>0</th>\n",
       "      <td>1433</td>\n",
       "      <td>1936</td>\n",
       "      <td>12</td>\n",
       "    </tr>\n",
       "    <tr>\n",
       "      <th>1</th>\n",
       "      <td>1433</td>\n",
       "      <td>1937</td>\n",
       "      <td>15</td>\n",
       "    </tr>\n",
       "    <tr>\n",
       "      <th>2</th>\n",
       "      <td>1433</td>\n",
       "      <td>1938</td>\n",
       "      <td>10</td>\n",
       "    </tr>\n",
       "    <tr>\n",
       "      <th>3</th>\n",
       "      <td>1433</td>\n",
       "      <td>1939</td>\n",
       "      <td>18</td>\n",
       "    </tr>\n",
       "    <tr>\n",
       "      <th>4</th>\n",
       "      <td>1433</td>\n",
       "      <td>1940</td>\n",
       "      <td>10</td>\n",
       "    </tr>\n",
       "  </tbody>\n",
       "</table>\n",
       "</div>"
      ],
      "text/plain": [
       "   journal  year  Paper Per Year\n",
       "0     1433  1936              12\n",
       "1     1433  1937              15\n",
       "2     1433  1938              10\n",
       "3     1433  1939              18\n",
       "4     1433  1940              10"
      ]
     },
     "execution_count": 20,
     "metadata": {},
     "output_type": "execute_result"
    }
   ],
   "source": [
    "finalDataset.head()"
   ]
  },
  {
   "cell_type": "code",
   "execution_count": 22,
   "metadata": {},
   "outputs": [
    {
     "data": {
      "text/plain": [
       "1873"
      ]
     },
     "execution_count": 22,
     "metadata": {},
     "output_type": "execute_result"
    }
   ],
   "source": [
    "# Checking how many unique journals we have\n",
    "len(finalDataset['journal'].unique())"
   ]
  },
  {
   "cell_type": "code",
   "execution_count": 73,
   "metadata": {},
   "outputs": [],
   "source": [
    "# Sipliting the Dataset before 2016 for training and testing purpose and data from 2017 to 2019 as unseen data.\n",
    "SampleData = finalDataset[finalDataset['year'] <= 2016]\n",
    "UnseenData = finalDataset[(finalDataset['year']>2016) & (finalDataset['year']<=2019)]"
   ]
  },
  {
   "cell_type": "code",
   "execution_count": 74,
   "metadata": {},
   "outputs": [],
   "source": [
    "# Sipliting data into 80:20 ratio for training and testing\n",
    "X_train, X_test, y_train, y_test = train_test_split(SampleData[['journal', 'year']],SampleData['Paper Per Year'],test_size = 0.2 , random_state = 0)"
   ]
  },
  {
   "cell_type": "markdown",
   "metadata": {},
   "source": [
    "### Training Decision Tree Regressor"
   ]
  },
  {
   "cell_type": "code",
   "execution_count": 75,
   "metadata": {},
   "outputs": [
    {
     "name": "stdout",
     "output_type": "stream",
     "text": [
      "Decision Tree Regression Accuracy:  0.8692556847184814\n"
     ]
    }
   ],
   "source": [
    "DTR = DecisionTreeRegressor(random_state = 0)\n",
    "DTR.fit(X_train,y_train)\n",
    "\n",
    "#Predicting the Pubication in a year using test set \n",
    "Predictions = DTR.predict(X_test)\n",
    "\n",
    "#Decision Tree Regression Accuracy with test set\n",
    "print('Decision Tree Regression Accuracy: ', DTR.score(X_test,y_test))"
   ]
  },
  {
   "cell_type": "markdown",
   "metadata": {},
   "source": [
    "#### Using K-Fold cross validation to validate the above code"
   ]
  },
  {
   "cell_type": "code",
   "execution_count": 76,
   "metadata": {},
   "outputs": [
    {
     "name": "stdout",
     "output_type": "stream",
     "text": [
      "Cross-Predicted(KFold) Decision Tree Regression Accuracy:  0.8976959152531453\n"
     ]
    }
   ],
   "source": [
    "#To use the K-fold cross validation we have to convet the data into array\n",
    "X = np.asarray(SampleData[['journal', 'year']])\n",
    "y = np.asarray(SampleData['Paper Per Year'])\n",
    "\n",
    "#Predicting the SalePrice using cross validation (KFold method)\n",
    "Predictions = cross_val_predict(DTR, X, y, cv=10 )\n",
    "#Decision Tree Regression Accuracy with cross validation\n",
    "accuracy_dt = metrics.r2_score(y, Predictions)\n",
    "print('Cross-Predicted(KFold) Decision Tree Regression Accuracy: ', accuracy_dt)"
   ]
  },
  {
   "cell_type": "markdown",
   "metadata": {},
   "source": [
    "#### Checking it on Unseen data"
   ]
  },
  {
   "cell_type": "code",
   "execution_count": 79,
   "metadata": {},
   "outputs": [
    {
     "name": "stdout",
     "output_type": "stream",
     "text": [
      "Decision Tree Regression Accuracy:  0.7251742456501419\n"
     ]
    }
   ],
   "source": [
    "X_Unseen = UnseenData[['journal', 'year']]\n",
    "Y_Unseen = UnseenData['Paper Per Year']\n",
    "\n",
    "Unseen_Prediction = DTR.predict(X_Unseen)\n",
    "\n",
    "#Decision Tree Regression Accuracy with test set\n",
    "print('Decision Tree Regression Accuracy: ', DTR.score(X_Unseen,Y_Unseen))"
   ]
  },
  {
   "cell_type": "markdown",
   "metadata": {},
   "source": [
    "#### Testing with K-Fold on Unseen data"
   ]
  },
  {
   "cell_type": "code",
   "execution_count": 80,
   "metadata": {},
   "outputs": [
    {
     "name": "stdout",
     "output_type": "stream",
     "text": [
      "Cross-Predicted(KFold) Decision Tree Regression Accuracy:  0.9082661901051796\n"
     ]
    }
   ],
   "source": [
    "#To use the K-fold cross validation we have to convet the data into array\n",
    "X = np.asarray(UnseenData[['journal', 'year']])\n",
    "y = np.asarray(UnseenData['Paper Per Year'])\n",
    "\n",
    "#Predicting the SalePrice using cross validation (KFold method)\n",
    "Predictions = cross_val_predict(DTR, X, y, cv=10 )\n",
    "#Decision Tree Regression Accuracy with cross validation\n",
    "accuracy_dt = metrics.r2_score(y, Predictions)\n",
    "print('Cross-Predicted(KFold) Decision Tree Regression Accuracy: ', accuracy_dt)"
   ]
  },
  {
   "cell_type": "markdown",
   "metadata": {},
   "source": [
    "###  Training Random Forest Regression"
   ]
  },
  {
   "cell_type": "code",
   "execution_count": 82,
   "metadata": {},
   "outputs": [
    {
     "name": "stdout",
     "output_type": "stream",
     "text": [
      "Random Forest Regression Accuracy:  0.8840635985433466\n",
      "Cross-Predicted(KFold) Decision Tree Regression Accuracy:  0.8976959152531453\n"
     ]
    }
   ],
   "source": [
    "RFR = RandomForestRegressor(n_estimators = 300 ,  random_state = 0)\n",
    "RFR.fit(X_train,y_train)\n",
    "\n",
    "#Predicting the SalePrices using test set \n",
    "Predictions = RFR.predict(X_test)\n",
    "\n",
    "#Random Forest Regression Accuracy with test set\n",
    "print('Random Forest Regression Accuracy: ', RFR.score(X_test,y_test))\n",
    "\n",
    "#To use the K-fold cross validation we have to convet the data into array\n",
    "X = np.asarray(SampleData[['journal', 'year']])\n",
    "y = np.asarray(SampleData['Paper Per Year'])\n",
    "\n",
    "#Predicting the SalePrice using cross validation (KFold method)\n",
    "Predictions = cross_val_predict(DTR, X, y, cv=10 )\n",
    "#Decision Tree Regression Accuracy with cross validation\n",
    "accuracy_dt = metrics.r2_score(y, Predictions)\n",
    "print('Cross-Predicted(KFold) Decision Tree Regression Accuracy: ', accuracy_dt)"
   ]
  },
  {
   "cell_type": "markdown",
   "metadata": {},
   "source": [
    "#### Testing Random Forest on Unseen data"
   ]
  },
  {
   "cell_type": "code",
   "execution_count": 83,
   "metadata": {},
   "outputs": [
    {
     "name": "stdout",
     "output_type": "stream",
     "text": [
      "Decision Tree Regression Accuracy:  0.6665075811322212\n"
     ]
    }
   ],
   "source": [
    "X_Unseen = UnseenData[['journal', 'year']]\n",
    "Y_Unseen = UnseenData['Paper Per Year']\n",
    "\n",
    "Unseen_Prediction = RFR.predict(X_Unseen)\n",
    "\n",
    "#Decision Tree Regression Accuracy with test set\n",
    "print('Decision Tree Regression Accuracy: ', RFR.score(X_Unseen,Y_Unseen))"
   ]
  },
  {
   "cell_type": "code",
   "execution_count": 84,
   "metadata": {},
   "outputs": [
    {
     "name": "stdout",
     "output_type": "stream",
     "text": [
      "Cross-Predicted(KFold) Decision Tree Regression Accuracy:  0.6809382167263347\n"
     ]
    }
   ],
   "source": [
    "#To use the K-fold cross validation we have to convet the data into array\n",
    "X = np.asarray(UnseenData[['journal', 'year']])\n",
    "y = np.asarray(UnseenData['Paper Per Year'])\n",
    "\n",
    "#Predicting the SalePrice using cross validation (KFold method)\n",
    "Predictions = cross_val_predict(RFR, X, y, cv=10 )\n",
    "#Decision Tree Regression Accuracy with cross validation\n",
    "accuracy_dt = metrics.r2_score(y, Predictions)\n",
    "print('Cross-Predicted(KFold) Decision Tree Regression Accuracy: ', accuracy_dt)"
   ]
  },
  {
   "cell_type": "code",
   "execution_count": null,
   "metadata": {},
   "outputs": [],
   "source": []
  }
 ],
 "metadata": {
  "kernelspec": {
   "display_name": "Python 3",
   "language": "python",
   "name": "python3"
  },
  "language_info": {
   "codemirror_mode": {
    "name": "ipython",
    "version": 3
   },
   "file_extension": ".py",
   "mimetype": "text/x-python",
   "name": "python",
   "nbconvert_exporter": "python",
   "pygments_lexer": "ipython3",
   "version": "3.8.3"
  }
 },
 "nbformat": 4,
 "nbformat_minor": 4
}
